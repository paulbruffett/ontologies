{
 "cells": [
  {
   "cell_type": "code",
   "execution_count": 1,
   "id": "royal-theory",
   "metadata": {},
   "outputs": [
    {
     "name": "stderr",
     "output_type": "stream",
     "text": [
      "* Owlready2 * Warning: optimized Cython parser module 'owlready2_optimized' is not available, defaulting to slower Python implementation\n"
     ]
    }
   ],
   "source": [
    "from owlready2 import *\n",
    "\n",
    "onto = get_ontology(\"http://test.org/onto.owl\")\n",
    "\n",
    "with onto:\n",
    "    class Coffee(Thing): pass\n",
    "            \n",
    "    class Roast(Thing): pass\n",
    "    \n",
    "    class Dark_Roast(Roast): pass\n",
    "    class Blonde_Roast(Roast): pass\n",
    "    class Medium_Roast(Roast): pass\n",
    "    \n",
    "    class Region(Thing): pass\n",
    "    \n",
    "    class Latin_America(Region): pass\n",
    "    class Asia_Pacific(Region): pass\n",
    "    class Multi(Region): pass\n",
    "    \n",
    "    class Processing(Thing): pass\n",
    "    \n",
    "    class Washed(Processing): pass\n",
    "    class Semi_Washed(Processing): pass\n",
    "    \n",
    "\n",
    "    class has_roast(Coffee >> Roast, FunctionalProperty):\n",
    "        pass\n",
    "    \n",
    "    \n",
    "    class from_region(Coffee >> Region, FunctionalProperty):\n",
    "        pass\n",
    "    \n",
    "    #inverse relationships indicate the relationship is bi-directional\n",
    "    class grown_in(Region >> Coffee):\n",
    "        inverse = from_region\n",
    "        \n",
    "    class has_body(Coffee >> str, FunctionalProperty):\n",
    "        pass\n",
    "    \n",
    "    class has_processing(Coffee >> Processing, ObjectProperty):\n",
    "        pass\n",
    "    \n",
    "            \n",
    "    class Veranda(Coffee):\n",
    "        equivalent_to = [Coffee & has_roast.value(Blonde_Roast) & from_region.some(Region) & \n",
    "                        from_region.only(Latin_America) & has_body.value(\"Light\") \n",
    "                         & has_processing.some(Processing)]\n",
    "\n",
    "    class Pike(Coffee):\n",
    "        equivalent_to = [Coffee & has_roast.value(Medium_Roast) & from_region.some(Region) &\n",
    "                        from_region.only(Latin_America) & has_body.value(\"Medium\") &\n",
    "                         has_processing.some(Processing)]\n",
    "\n",
    "    class Sumatra(Coffee):\n",
    "        equivalent_to = [Coffee & has_roast.value(Dark_Roast) & from_region.some(Region) &\n",
    "                        from_region.only(Asia_Pacific) & has_body.value(\"Full\") &\n",
    "                        has_processing.some(Processing)]\n",
    "\n",
    "\n",
    "AllDisjoint([Dark_Roast, Blonde_Roast, Medium_Roast])\n",
    "AllDifferent([Latin_America, Asia_Pacific, Multi])\n",
    "\n",
    "#previously we related the unknown coffee to classes, now we're instantiating objects to relate to\n",
    "latam = Latin_America()\n",
    "apac = Asia_Pacific()\n",
    "\n",
    "\n",
    "coffee1 = Coffee(has_roast = Blonde_Roast, from_region=latam, has_body = \"Light\",has_processing=[Washed])\n",
    "coffee2 = Coffee(has_roast = Dark_Roast, from_region=apac, has_body = \"Full\", has_processing=[Washed])\n",
    "\n",
    "\n",
    "close_world(Coffee)"
   ]
  },
  {
   "cell_type": "code",
   "execution_count": 2,
   "id": "thorough-monte",
   "metadata": {},
   "outputs": [
    {
     "name": "stderr",
     "output_type": "stream",
     "text": [
      "* Owlready2 * Running HermiT...\n",
      "    java -Xmx2000M -cp /Users/paulbruffett/opt/anaconda3/envs/owl/lib/python3.9/site-packages/owlready2/hermit:/Users/paulbruffett/opt/anaconda3/envs/owl/lib/python3.9/site-packages/owlready2/hermit/HermiT.jar org.semanticweb.HermiT.cli.CommandLine -c -O -D -I file:////var/folders/mw/b9xyscgn6kq6b010hzq_73ym0000gn/T/tmppvvd36q6\n",
      "* Owlready2 * HermiT took 0.8299109935760498 seconds\n",
      "* Owlready * Equivalenting: onto.Pike owl.Nothing\n",
      "* Owlready * Reparenting onto.coffee2: {onto.Coffee} => {onto.Sumatra}\n",
      "* Owlready * Reparenting onto.coffee1: {onto.Coffee} => {onto.Veranda}\n",
      "* Owlready * (NB: only changes on entities loaded in Python are shown, other changes are done but not listed)\n"
     ]
    }
   ],
   "source": [
    "sync_reasoner()"
   ]
  },
  {
   "cell_type": "code",
   "execution_count": 3,
   "id": "acquired-degree",
   "metadata": {},
   "outputs": [
    {
     "data": {
      "text/plain": [
       "[onto.has_processing.only(OneOf([onto.Washed])), onto.Veranda]"
      ]
     },
     "execution_count": 3,
     "metadata": {},
     "output_type": "execute_result"
    }
   ],
   "source": [
    "coffee1.is_a"
   ]
  },
  {
   "cell_type": "code",
   "execution_count": 4,
   "id": "authentic-saudi",
   "metadata": {},
   "outputs": [
    {
     "data": {
      "text/plain": [
       "[onto.has_processing.only(OneOf([onto.Washed])), onto.Sumatra]"
      ]
     },
     "execution_count": 4,
     "metadata": {},
     "output_type": "execute_result"
    }
   ],
   "source": [
    "coffee2.is_a"
   ]
  },
  {
   "cell_type": "code",
   "execution_count": 5,
   "id": "bacterial-roller",
   "metadata": {},
   "outputs": [
    {
     "data": {
      "text/plain": [
       "[owl.Thing,\n",
       " OneOf([onto.coffee2, onto.coffee1]),\n",
       " onto.has_roast.only(OneOf([onto.Medium_Roast, onto.Blonde_Roast, onto.Dark_Roast, onto.Dark_Roast, onto.Blonde_Roast])),\n",
       " onto.from_region.only(onto.Region | onto.Region | onto.Region | OneOf([onto.asia_pacific1, onto.latin_america1])),\n",
       " onto.has_processing.only(onto.Processing | onto.Processing | onto.Processing | OneOf([onto.Washed, onto.Washed]))]"
      ]
     },
     "execution_count": 5,
     "metadata": {},
     "output_type": "execute_result"
    }
   ],
   "source": [
    "Coffee.is_a"
   ]
  },
  {
   "cell_type": "code",
   "execution_count": 6,
   "id": "egyptian-steal",
   "metadata": {},
   "outputs": [
    {
     "data": {
      "text/plain": [
       "[onto.Coffee,\n",
       " onto.has_roast.only(OneOf([onto.Medium_Roast])),\n",
       " onto.from_region.only(onto.Region),\n",
       " onto.has_processing.only(onto.Processing)]"
      ]
     },
     "execution_count": 6,
     "metadata": {},
     "output_type": "execute_result"
    }
   ],
   "source": [
    "Pike.is_a"
   ]
  },
  {
   "cell_type": "code",
   "execution_count": 7,
   "id": "mechanical-thought",
   "metadata": {},
   "outputs": [
    {
     "data": {
      "text/plain": [
       "[onto.coffee1]"
      ]
     },
     "execution_count": 7,
     "metadata": {},
     "output_type": "execute_result"
    }
   ],
   "source": [
    "#I can examine the inverse relationship defined\n",
    "latam.grown_in"
   ]
  },
  {
   "cell_type": "code",
   "execution_count": 8,
   "id": "joint-treasurer",
   "metadata": {},
   "outputs": [
    {
     "data": {
      "text/plain": [
       "{onto.from_region, onto.has_roast, onto.has_processing, onto.has_body}"
      ]
     },
     "execution_count": 8,
     "metadata": {},
     "output_type": "execute_result"
    }
   ],
   "source": [
    "coffee1.get_properties()"
   ]
  },
  {
   "cell_type": "code",
   "execution_count": null,
   "id": "assigned-hepatitis",
   "metadata": {},
   "outputs": [],
   "source": []
  }
 ],
 "metadata": {
  "kernelspec": {
   "display_name": "Python 3",
   "language": "python",
   "name": "python3"
  },
  "language_info": {
   "codemirror_mode": {
    "name": "ipython",
    "version": 3
   },
   "file_extension": ".py",
   "mimetype": "text/x-python",
   "name": "python",
   "nbconvert_exporter": "python",
   "pygments_lexer": "ipython3",
   "version": "3.9.1"
  }
 },
 "nbformat": 4,
 "nbformat_minor": 5
}
