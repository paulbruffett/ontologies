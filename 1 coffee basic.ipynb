{
 "cells": [
  {
   "cell_type": "code",
   "execution_count": 1,
   "id": "hourly-smart",
   "metadata": {},
   "outputs": [
    {
     "name": "stderr",
     "output_type": "stream",
     "text": [
      "* Owlready2 * Warning: optimized Cython parser module 'owlready2_optimized' is not available, defaulting to slower Python implementation\n"
     ]
    }
   ],
   "source": [
    "from owlready2 import *\n",
    "\n",
    "#we define our ontology; all ontologies share the same world by default\n",
    "onto = get_ontology(\"http://test.org/onto.owl\")"
   ]
  },
  {
   "cell_type": "code",
   "execution_count": 2,
   "id": "royal-theory",
   "metadata": {},
   "outputs": [
    {
     "name": "stdout",
     "output_type": "stream",
     "text": [
      "Coffee 1 is:  [onto.Coffee]\n",
      "Coffee 2 is:  [onto.Coffee]\n"
     ]
    }
   ],
   "source": [
    "with onto:\n",
    "    #our entities are classes\n",
    "    class Coffee(Thing): pass\n",
    "    \n",
    "    #related information can also be captured as classes\n",
    "    class Roast(Thing): pass\n",
    "    \n",
    "    #subclassing Roast to break down additional details\n",
    "    class Dark_Roast(Roast): pass\n",
    "    class Blonde_Roast(Roast): pass\n",
    "    class Medium_Roast(Roast): pass\n",
    "    \n",
    "    \n",
    "    class Region(Thing): pass\n",
    "    \n",
    "    class Latin_America(Region): pass\n",
    "    class Asia_Pacific(Region): pass\n",
    "    class Multi(Region): pass\n",
    "    \n",
    "    \n",
    "    #defining the relationship between coffee and roast\n",
    "    class has_roast(ObjectProperty, FunctionalProperty):\n",
    "        domain = [Coffee]\n",
    "        region = [Roast]\n",
    "    \n",
    "    \n",
    "    #FunctionalProperties mean it can only be related to one; these coffees can only be grown in one region\n",
    "    class from_region(Coffee >> Region, FunctionalProperty):\n",
    "        pass\n",
    "    \n",
    "    \n",
    "    #defining the characteristics for a specific coffee type or line\n",
    "    class Veranda(Coffee):\n",
    "        equivalent_to = [Coffee & has_roast.value(Blonde_Roast) & from_region.some(Region) & \n",
    "                        from_region.only(Latin_America)]\n",
    "\n",
    "    #.some means it must be related to a Region\n",
    "    #.only means if it's related to a region it must be the one defined\n",
    "    class Pike(Coffee):\n",
    "        equivalent_to = [Coffee & has_roast.value(Medium_Roast) & from_region.some(Region) &\n",
    "                        from_region.only(Latin_America)]\n",
    "\n",
    "        \n",
    "\n",
    "#telling the ontology these are all different things\n",
    "AllDifferent([Dark_Roast, Blonde_Roast, Medium_Roast])\n",
    "AllDifferent([Latin_America, Asia_Pacific, Multi])\n",
    "\n",
    "#defining some unknown coffees and their characteristics\n",
    "coffee1 = Coffee(has_roast = Blonde_Roast, from_region=Latin_America())\n",
    "coffee2 = Coffee(has_roast = Medium_Roast, from_region=Latin_America())\n",
    "\n",
    "print(\"Coffee 1 is: \", coffee1.is_a)\n",
    "print(\"Coffee 2 is: \", coffee2.is_a)\n",
    "\n",
    "#closing the world, by default we have an open world, anything not restricted is possible\n",
    "close_world(Coffee)"
   ]
  },
  {
   "cell_type": "code",
   "execution_count": 3,
   "id": "thorough-monte",
   "metadata": {},
   "outputs": [
    {
     "name": "stderr",
     "output_type": "stream",
     "text": [
      "* Owlready2 * Running HermiT...\n",
      "    java -Xmx2000M -cp /Users/paulbruffett/opt/anaconda3/envs/owl/lib/python3.9/site-packages/owlready2/hermit:/Users/paulbruffett/opt/anaconda3/envs/owl/lib/python3.9/site-packages/owlready2/hermit/HermiT.jar org.semanticweb.HermiT.cli.CommandLine -c -O -D -I file:////var/folders/mw/b9xyscgn6kq6b010hzq_73ym0000gn/T/tmplog2fl63\n",
      "* Owlready2 * HermiT took 1.2318758964538574 seconds\n",
      "* Owlready * Reparenting onto.coffee2: {onto.Coffee} => {onto.Pike}\n",
      "* Owlready * Reparenting onto.coffee1: {onto.Coffee} => {onto.Veranda}\n",
      "* Owlready * (NB: only changes on entities loaded in Python are shown, other changes are done but not listed)\n"
     ]
    }
   ],
   "source": [
    "#analyze the world, classify the coffees\n",
    "sync_reasoner()"
   ]
  },
  {
   "cell_type": "code",
   "execution_count": 4,
   "id": "acquired-degree",
   "metadata": {},
   "outputs": [
    {
     "data": {
      "text/plain": [
       "[onto.Veranda]"
      ]
     },
     "execution_count": 4,
     "metadata": {},
     "output_type": "execute_result"
    }
   ],
   "source": [
    "#what is coffee2 now classified as?\n",
    "coffee1.is_a"
   ]
  },
  {
   "cell_type": "code",
   "execution_count": 5,
   "id": "technological-assembly",
   "metadata": {},
   "outputs": [
    {
     "data": {
      "text/plain": [
       "[onto.Pike]"
      ]
     },
     "execution_count": 5,
     "metadata": {},
     "output_type": "execute_result"
    }
   ],
   "source": [
    "coffee2.is_a"
   ]
  },
  {
   "cell_type": "code",
   "execution_count": 6,
   "id": "backed-listening",
   "metadata": {},
   "outputs": [
    {
     "data": {
      "text/plain": [
       "[owl.Thing,\n",
       " OneOf([onto.coffee1, onto.coffee2]),\n",
       " onto.has_roast.only(OneOf([onto.Blonde_Roast, onto.Medium_Roast, onto.Blonde_Roast, onto.Medium_Roast])),\n",
       " onto.from_region.only(onto.Region | onto.Region | OneOf([onto.latin_america1, onto.latin_america2]))]"
      ]
     },
     "execution_count": 6,
     "metadata": {},
     "output_type": "execute_result"
    }
   ],
   "source": [
    "#information about the parent class\n",
    "Coffee.is_a"
   ]
  },
  {
   "cell_type": "code",
   "execution_count": 7,
   "id": "cleared-testimony",
   "metadata": {},
   "outputs": [
    {
     "data": {
      "text/plain": [
       "[onto.Coffee,\n",
       " onto.has_roast.only(OneOf([onto.Medium_Roast])),\n",
       " onto.from_region.only(onto.Region)]"
      ]
     },
     "execution_count": 7,
     "metadata": {},
     "output_type": "execute_result"
    }
   ],
   "source": [
    "Pike.is_a"
   ]
  }
 ],
 "metadata": {
  "kernelspec": {
   "display_name": "Python 3",
   "language": "python",
   "name": "python3"
  },
  "language_info": {
   "codemirror_mode": {
    "name": "ipython",
    "version": 3
   },
   "file_extension": ".py",
   "mimetype": "text/x-python",
   "name": "python",
   "nbconvert_exporter": "python",
   "pygments_lexer": "ipython3",
   "version": "3.9.1"
  }
 },
 "nbformat": 4,
 "nbformat_minor": 5
}
