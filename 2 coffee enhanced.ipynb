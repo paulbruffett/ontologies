{
 "cells": [
  {
   "cell_type": "code",
   "execution_count": 1,
   "id": "royal-theory",
   "metadata": {},
   "outputs": [
    {
     "name": "stderr",
     "output_type": "stream",
     "text": [
      "* Owlready2 * Warning: optimized Cython parser module 'owlready2_optimized' is not available, defaulting to slower Python implementation\n"
     ]
    }
   ],
   "source": [
    "from owlready2 import *\n",
    "\n",
    "onto = get_ontology(\"http://test.org/onto.owl\")\n",
    "\n",
    "with onto:\n",
    "    class Coffee(Thing): pass\n",
    "            \n",
    "    class Roast(Thing): pass\n",
    "    \n",
    "    class Dark_Roast(Roast): pass\n",
    "    class Blonde_Roast(Roast): pass\n",
    "    class Medium_Roast(Roast): pass\n",
    "    \n",
    "    class Region(Thing): pass\n",
    "    \n",
    "    class Latin_America(Region): pass\n",
    "    class Asia_Pacific(Region): pass\n",
    "    class Multi(Region): pass\n",
    "    \n",
    "    class Processing(Thing): pass\n",
    "    \n",
    "    class Washed(Processing): pass\n",
    "    class Semi_Washed(Processing): pass\n",
    "    \n",
    "\n",
    "    class has_roast(Coffee >> Roast, FunctionalProperty):\n",
    "        pass\n",
    "    \n",
    "    \n",
    "    class from_region(Coffee >> Region, FunctionalProperty):\n",
    "        pass\n",
    "    \n",
    "    #inverse relationships indicate the relationship is bi-directional\n",
    "    class grown_in(Region >> Coffee):\n",
    "        inverse = from_region\n",
    "        \n",
    "    class has_body(Coffee >> str, FunctionalProperty):\n",
    "        pass\n",
    "    \n",
    "    class has_processing(Coffee >> Processing, ObjectProperty):\n",
    "        pass\n",
    "    \n",
    "            \n",
    "    class Veranda(Coffee):\n",
    "        equivalent_to = [Coffee & has_roast.value(Blonde_Roast) & from_region.some(Region) & \n",
    "                        from_region.only(Latin_America) & has_body.value(\"Light\")]\n",
    "\n",
    "    class Pike(Coffee):\n",
    "        equivalent_to = [Coffee & has_roast.value(Medium_Roast) & from_region.some(Region) &\n",
    "                        from_region.only(Latin_America) & has_body.value(\"Medium\")]\n",
    "\n",
    "    class Sumatra(Coffee):\n",
    "        equivalent_to = [Coffee & has_roast.value(Dark_Roast) & from_region.some(Region) &\n",
    "                        from_region.only(Asia_Pacific) & has_body.value(\"Full\")]\n",
    "\n",
    "\n",
    "AllDisjoint([Dark_Roast, Blonde_Roast, Medium_Roast])\n",
    "AllDifferent([Latin_America, Asia_Pacific, Multi])\n",
    "\n",
    "#previously we related the unknown coffee to classes, now we're instantiating objects to relate to\n",
    "latam = Latin_America()\n",
    "apac = Asia_Pacific()\n",
    "\n",
    "\n",
    "coffee1 = Coffee(has_roast = Blonde_Roast, from_region=latam, has_body = \"Light\",has_processing=[Washed])\n",
    "coffee2 = Coffee(has_roast = Dark_Roast, from_region=apac, has_body = \"Full\")\n",
    "\n",
    "\n",
    "close_world(Coffee)"
   ]
  },
  {
   "cell_type": "code",
   "execution_count": 2,
   "id": "thorough-monte",
   "metadata": {},
   "outputs": [
    {
     "name": "stderr",
     "output_type": "stream",
     "text": [
      "* Owlready2 * Running HermiT...\n",
      "    java -Xmx2000M -cp /Users/paulbruffett/opt/anaconda3/envs/owl/lib/python3.9/site-packages/owlready2/hermit:/Users/paulbruffett/opt/anaconda3/envs/owl/lib/python3.9/site-packages/owlready2/hermit/HermiT.jar org.semanticweb.HermiT.cli.CommandLine -c -O -D -I file:////var/folders/mw/b9xyscgn6kq6b010hzq_73ym0000gn/T/tmpbkvqdaoa\n"
     ]
    },
    {
     "ename": "OwlReadyInconsistentOntologyError",
     "evalue": "",
     "output_type": "error",
     "traceback": [
      "\u001b[0;31m---------------------------------------------------------------------------\u001b[0m",
      "\u001b[0;31mCalledProcessError\u001b[0m                        Traceback (most recent call last)",
      "\u001b[0;32m~/opt/anaconda3/envs/owl/lib/python3.9/site-packages/owlready2/reasoning.py\u001b[0m in \u001b[0;36msync_reasoner_hermit\u001b[0;34m(x, infer_property_values, debug, keep_tmp_file)\u001b[0m\n\u001b[1;32m    136\u001b[0m     \u001b[0;32mtry\u001b[0m\u001b[0;34m:\u001b[0m\u001b[0;34m\u001b[0m\u001b[0;34m\u001b[0m\u001b[0m\n\u001b[0;32m--> 137\u001b[0;31m       \u001b[0moutput\u001b[0m \u001b[0;34m=\u001b[0m \u001b[0msubprocess\u001b[0m\u001b[0;34m.\u001b[0m\u001b[0mcheck_output\u001b[0m\u001b[0;34m(\u001b[0m\u001b[0mcommand\u001b[0m\u001b[0;34m,\u001b[0m \u001b[0mstderr\u001b[0m \u001b[0;34m=\u001b[0m \u001b[0msubprocess\u001b[0m\u001b[0;34m.\u001b[0m\u001b[0mSTDOUT\u001b[0m\u001b[0;34m)\u001b[0m\u001b[0;34m\u001b[0m\u001b[0;34m\u001b[0m\u001b[0m\n\u001b[0m\u001b[1;32m    138\u001b[0m     \u001b[0;32mexcept\u001b[0m \u001b[0msubprocess\u001b[0m\u001b[0;34m.\u001b[0m\u001b[0mCalledProcessError\u001b[0m \u001b[0;32mas\u001b[0m \u001b[0me\u001b[0m\u001b[0;34m:\u001b[0m\u001b[0;34m\u001b[0m\u001b[0;34m\u001b[0m\u001b[0m\n",
      "\u001b[0;32m~/opt/anaconda3/envs/owl/lib/python3.9/subprocess.py\u001b[0m in \u001b[0;36mcheck_output\u001b[0;34m(timeout, *popenargs, **kwargs)\u001b[0m\n\u001b[1;32m    419\u001b[0m \u001b[0;34m\u001b[0m\u001b[0m\n\u001b[0;32m--> 420\u001b[0;31m     return run(*popenargs, stdout=PIPE, timeout=timeout, check=True,\n\u001b[0m\u001b[1;32m    421\u001b[0m                **kwargs).stdout\n",
      "\u001b[0;32m~/opt/anaconda3/envs/owl/lib/python3.9/subprocess.py\u001b[0m in \u001b[0;36mrun\u001b[0;34m(input, capture_output, timeout, check, *popenargs, **kwargs)\u001b[0m\n\u001b[1;32m    523\u001b[0m         \u001b[0;32mif\u001b[0m \u001b[0mcheck\u001b[0m \u001b[0;32mand\u001b[0m \u001b[0mretcode\u001b[0m\u001b[0;34m:\u001b[0m\u001b[0;34m\u001b[0m\u001b[0;34m\u001b[0m\u001b[0m\n\u001b[0;32m--> 524\u001b[0;31m             raise CalledProcessError(retcode, process.args,\n\u001b[0m\u001b[1;32m    525\u001b[0m                                      output=stdout, stderr=stderr)\n",
      "\u001b[0;31mCalledProcessError\u001b[0m: Command '['java', '-Xmx2000M', '-cp', '/Users/paulbruffett/opt/anaconda3/envs/owl/lib/python3.9/site-packages/owlready2/hermit:/Users/paulbruffett/opt/anaconda3/envs/owl/lib/python3.9/site-packages/owlready2/hermit/HermiT.jar', 'org.semanticweb.HermiT.cli.CommandLine', '-c', '-O', '-D', '-I', 'file:////var/folders/mw/b9xyscgn6kq6b010hzq_73ym0000gn/T/tmpbkvqdaoa']' returned non-zero exit status 1.",
      "\nDuring handling of the above exception, another exception occurred:\n",
      "\u001b[0;31mOwlReadyInconsistentOntologyError\u001b[0m         Traceback (most recent call last)",
      "\u001b[0;32m<ipython-input-2-33ab36516364>\u001b[0m in \u001b[0;36m<module>\u001b[0;34m\u001b[0m\n\u001b[0;32m----> 1\u001b[0;31m \u001b[0msync_reasoner\u001b[0m\u001b[0;34m(\u001b[0m\u001b[0;34m)\u001b[0m\u001b[0;34m\u001b[0m\u001b[0;34m\u001b[0m\u001b[0m\n\u001b[0m",
      "\u001b[0;32m~/opt/anaconda3/envs/owl/lib/python3.9/site-packages/owlready2/reasoning.py\u001b[0m in \u001b[0;36msync_reasoner_hermit\u001b[0;34m(x, infer_property_values, debug, keep_tmp_file)\u001b[0m\n\u001b[1;32m    138\u001b[0m     \u001b[0;32mexcept\u001b[0m \u001b[0msubprocess\u001b[0m\u001b[0;34m.\u001b[0m\u001b[0mCalledProcessError\u001b[0m \u001b[0;32mas\u001b[0m \u001b[0me\u001b[0m\u001b[0;34m:\u001b[0m\u001b[0;34m\u001b[0m\u001b[0;34m\u001b[0m\u001b[0m\n\u001b[1;32m    139\u001b[0m       \u001b[0;32mif\u001b[0m \u001b[0;34m(\u001b[0m\u001b[0me\u001b[0m\u001b[0;34m.\u001b[0m\u001b[0mreturncode\u001b[0m \u001b[0;34m==\u001b[0m \u001b[0;36m1\u001b[0m\u001b[0;34m)\u001b[0m \u001b[0;32mand\u001b[0m \u001b[0;34m(\u001b[0m\u001b[0;34mb\"Inconsistent ontology\"\u001b[0m \u001b[0;32min\u001b[0m \u001b[0;34m(\u001b[0m\u001b[0me\u001b[0m\u001b[0;34m.\u001b[0m\u001b[0moutput\u001b[0m \u001b[0;32mor\u001b[0m \u001b[0;34mb\"\"\u001b[0m\u001b[0;34m)\u001b[0m\u001b[0;34m)\u001b[0m\u001b[0;34m:\u001b[0m\u001b[0;34m\u001b[0m\u001b[0;34m\u001b[0m\u001b[0m\n\u001b[0;32m--> 140\u001b[0;31m         \u001b[0;32mraise\u001b[0m \u001b[0mOwlReadyInconsistentOntologyError\u001b[0m\u001b[0;34m(\u001b[0m\u001b[0;34m)\u001b[0m\u001b[0;34m\u001b[0m\u001b[0;34m\u001b[0m\u001b[0m\n\u001b[0m\u001b[1;32m    141\u001b[0m       \u001b[0;32melse\u001b[0m\u001b[0;34m:\u001b[0m\u001b[0;34m\u001b[0m\u001b[0;34m\u001b[0m\u001b[0m\n\u001b[1;32m    142\u001b[0m         \u001b[0;32mraise\u001b[0m \u001b[0mOwlReadyJavaError\u001b[0m\u001b[0;34m(\u001b[0m\u001b[0;34m\"Java error message is:\\n%s\"\u001b[0m \u001b[0;34m%\u001b[0m \u001b[0;34m(\u001b[0m\u001b[0me\u001b[0m\u001b[0;34m.\u001b[0m\u001b[0mstderr\u001b[0m \u001b[0;32mor\u001b[0m \u001b[0me\u001b[0m\u001b[0;34m.\u001b[0m\u001b[0moutput\u001b[0m \u001b[0;32mor\u001b[0m \u001b[0;34mb\"\"\u001b[0m\u001b[0;34m)\u001b[0m\u001b[0;34m.\u001b[0m\u001b[0mdecode\u001b[0m\u001b[0;34m(\u001b[0m\u001b[0;34m\"utf8\"\u001b[0m\u001b[0;34m)\u001b[0m\u001b[0;34m)\u001b[0m\u001b[0;34m\u001b[0m\u001b[0;34m\u001b[0m\u001b[0m\n",
      "\u001b[0;31mOwlReadyInconsistentOntologyError\u001b[0m: "
     ]
    }
   ],
   "source": [
    "sync_reasoner()"
   ]
  },
  {
   "cell_type": "code",
   "execution_count": null,
   "id": "acquired-degree",
   "metadata": {},
   "outputs": [],
   "source": [
    "coffee1.is_a"
   ]
  },
  {
   "cell_type": "code",
   "execution_count": null,
   "id": "authentic-saudi",
   "metadata": {},
   "outputs": [],
   "source": [
    "coffee2.is_a"
   ]
  },
  {
   "cell_type": "code",
   "execution_count": null,
   "id": "bacterial-roller",
   "metadata": {},
   "outputs": [],
   "source": [
    "Coffee.is_a"
   ]
  },
  {
   "cell_type": "code",
   "execution_count": null,
   "id": "egyptian-steal",
   "metadata": {},
   "outputs": [],
   "source": [
    "Pike.is_a"
   ]
  },
  {
   "cell_type": "code",
   "execution_count": null,
   "id": "mechanical-thought",
   "metadata": {},
   "outputs": [],
   "source": [
    "#I can examine the inverse relationship defined\n",
    "latam.grown_in"
   ]
  },
  {
   "cell_type": "code",
   "execution_count": null,
   "id": "joint-treasurer",
   "metadata": {},
   "outputs": [],
   "source": [
    "coffee1.get_properties()"
   ]
  },
  {
   "cell_type": "code",
   "execution_count": null,
   "id": "assigned-hepatitis",
   "metadata": {},
   "outputs": [],
   "source": []
  }
 ],
 "metadata": {
  "kernelspec": {
   "display_name": "Python 3",
   "language": "python",
   "name": "python3"
  },
  "language_info": {
   "codemirror_mode": {
    "name": "ipython",
    "version": 3
   },
   "file_extension": ".py",
   "mimetype": "text/x-python",
   "name": "python",
   "nbconvert_exporter": "python",
   "pygments_lexer": "ipython3",
   "version": "3.9.1"
  }
 },
 "nbformat": 4,
 "nbformat_minor": 5
}
